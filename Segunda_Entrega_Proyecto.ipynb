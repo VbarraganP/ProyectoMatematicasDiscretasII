{
  "nbformat": 4,
  "nbformat_minor": 0,
  "metadata": {
    "colab": {
      "name": "Segunda Entrega Proyecto.ipynb",
      "provenance": [],
      "collapsed_sections": []
    },
    "kernelspec": {
      "name": "python3",
      "display_name": "Python 3"
    }
  },
  "cells": [
    {
      "cell_type": "markdown",
      "metadata": {
        "id": "cxMLXHxErWn6"
      },
      "source": [
        "# **Proyecto Matematicas Discretas II - Uso del RSA (Rivest - Shamir - Adleman)**\n",
        "**Universidad Nacional de Colombia**\n",
        "<br/>\n",
        "Por:\n",
        ">**Juan Felipe Rojas Cendales**\n",
        "<br/>\n",
        ">**Victor Alfredo Barragan Paez**"
      ]
    },
    {
      "cell_type": "markdown",
      "metadata": {
        "id": "HIRBA0eFoUj8"
      },
      "source": [
        "#### **Introducción**\n",
        "- Deberá incluir una descripción del problema a resolver, desde el problema más general hasta el problema especifico a abordar.\n",
        "- Estado del arte, deberá incluir un estado del arte pequeño sobre como se ha abordado este problema antes."
      ]
    },
    {
      "cell_type": "markdown",
      "metadata": {
        "id": "UEw7OWQhooos"
      },
      "source": [
        "> En el transcurso de la historia de la humanidad existe un factor común y constante que ha brindado todo tipo de ventajas sobre quienes carecen de ella. Indiscutiblemente la **información** juega un papel fundamental en la toma de decisiones que definen los rumbos del hombre, es por esto que se considera como un recurso de sumo valor y el interés de protegerla, conservarla y comunicarla supone un verdadero reto desde el inicio de las primeras civilizaciones hasta nuestros tiempos. \n",
        "En general, nuestro objetivo es hacer uso de las matemáticas para preservar la información que buscamos esconder o proteger. Imaginemos por un momento una situación específica donde se busca comunicar un mensaje confidencial a una persona que se encuentra a una distancia considerable, podríamos probar múltiples métodos para realizar el envío pero todas serian igual de inseguras e ineficientes para ocultar el contenido del mensaje ¿Cómo podríamos cumplir con este propósito? Con el paso de los años se han creado diferentes métodos, trucos o **algoritmos matemáticos** que buscan solucionar este tipo de problema y probablemente el más popular en la actualidad es el algoritmo  **RSA**.\n"
      ]
    },
    {
      "cell_type": "markdown",
      "metadata": {
        "id": "k_HybANi6HI0"
      },
      "source": [
        "> El uso de la criptografía para ocultar información tiene sus inicios en el siglo V a.c. hace 2500 años con la “Escitala”, sin embargo, estos primeros métodos eran fácilmente reversibles. Con el pasar de los años se iban ideando métodos mas elaborados e ingeniosos como el método Cesar, sustitución polialfabética de León Battista Alberti o los numerosos estudios que se han hecho sobre el tema, pero probablemente donde mas se han evidenciado los atributos de la criptografía es en las guerras mundiales con el cifrado ADFGVX (primera guerra mundial) o la máquina Enigma (Segunda Guerra mundial). Luego de la segunda guerra mundial , la criptografía tuvo un desarrollo teórico importante y junto al avance tecnológico , se entra a una nueva era criptográfica la cual nos ha permitido hacer uso de las firmas digitales.\n",
        "Históricamente el algoritmo RSA descrito en 1977, llega en esa nueva era criptográfica gracias a sus inventores Ron Rivest , Adi Shamir y Leonard Adleman que inspirados por Whitfield Diffie y Martin Hellman , buscaban crear un algoritmo asimétrico capaz de cifrar y autenticar. Básicamente el algoritmo RSA basa su cifrado en la dificultad practica de factorizar el producto de dos números primos grandes.\n"
      ]
    },
    {
      "cell_type": "markdown",
      "metadata": {
        "id": "UUYYCfywopJu"
      },
      "source": [
        "#### **Materiales y métodos**\n"
      ]
    },
    {
      "cell_type": "markdown",
      "metadata": {
        "id": "yyBAat70MD7I"
      },
      "source": [
        "1. Deberá incluir la descripción de los datos utilizados (si los hay)."
      ]
    },
    {
      "cell_type": "markdown",
      "metadata": {
        "id": "G7eGMZFnMVvQ"
      },
      "source": [
        "Nuestro set de datos consta de diferentes frases , palabras u oraciones. Estas pasaran por una funcion que \"traduce\" cada caracter a su respectivo codigo ASCII en un arreglo unidimensional.<br>\n",
        "De igual manera, haremos uso de numeros primos con el fin de generar las claves necesarias para el funcionamiento del algoritmo."
      ]
    },
    {
      "cell_type": "markdown",
      "metadata": {
        "id": "qLN_9DmuGZIs"
      },
      "source": [
        "<img src=\"https://drive.google.com/uc?export=view&id=1AdHD2jj-b3Jxvp-cAR3UjDinSWBVJv0b\" />"
      ]
    },
    {
      "cell_type": "code",
      "metadata": {
        "colab": {
          "base_uri": "https://localhost:8080/"
        },
        "id": "Hp2Ts0CMDU_e",
        "outputId": "da3e1d80-1c7a-42b5-d048-6e0932d9f8ad"
      },
      "source": [
        "def convertirStringASCII(s):\n",
        "  return [ord(c) for c in s]\n",
        "print(convertirStringASCII(\"Matemáticas Discretas\"))"
      ],
      "execution_count": null,
      "outputs": [
        {
          "output_type": "stream",
          "text": [
            "[77, 97, 116, 101, 109, 225, 116, 105, 99, 97, 115, 32, 68, 105, 115, 99, 114, 101, 116, 97, 115]\n"
          ],
          "name": "stdout"
        }
      ]
    },
    {
      "cell_type": "markdown",
      "metadata": {
        "id": "7J5usyDnotiE"
      },
      "source": [
        "2. Descripción matemática de los métodos. Se deberá explicar cuales son los fundamentos matemáticos de los algoritmos y/o métodos utilizados. En todos los casos se espera una justificación matemática de los métodos utilizados.\n"
      ]
    },
    {
      "cell_type": "markdown",
      "metadata": {
        "id": "maINkCiLMSNi"
      },
      "source": [
        "El algoritmo RSA basa su fortaleza en la dificultad de factorizar un numero compuesto muy grande (mayor a 1.000 bits), producto de multiplicar dos primos tambien muy grandes(Mayor a 500 bits).<br>\n",
        "El algoritmo de cifrado RSA consta basicamente de 3 fases:<br>\n",
        "(1). Generacion de claves publicas y privadas.<br>\n",
        "(2). Cifrado del contenido.<br>\n",
        "(3). Descifrado del contenido.<br>\n",
        "Para cada una de estas fases es necesario tener una apropiada fundamentacion matematica, por lo tanto, vamos a especificar los fundamentos necesarios para cada paso.<br>"
      ]
    },
    {
      "cell_type": "markdown",
      "metadata": {
        "id": "Li5QFa-gfcFM"
      },
      "source": [
        "**Generacion de claves publicas y privadas**<br>\n",
        "En esta primera fase generamos las llaves necesarias para cifrar y descifrar el contenido que deseemos. Es importante tener en cuenta que este proceso matematico sirve unicamente para valores numericos, entonces, si queremos cifrar mensajes debemos encontrar su respectiva traduccion numerica.<br>\n",
        "Como fundamentos para este paso debemos conocer:<br>\n",
        "\n",
        " - **Funcion $\\phi$ de Euler:** <br>\n",
        " si  $n \\in \\mathbb{Z^+}$, se define $\\phi(n)$ como el numero de enteros positivos menor o iguales a n y coprimos con n:<br>\n",
        " $$\\phi(n) = |\\{ m \\in \\mathbb{Z^+} \\ ; \\ m<n \\ \\wedge mcd(m, n)= 1 \\}|$$\n",
        " - **Propiedad de la funcion $\\phi$ de Euler:** <br>\n",
        "  Si $n$ y $m$ son primos entre sí, entonces: $$\\phi(nm)= \\phi(n) \\phi(m)$$\n",
        " - **Por definicion si n es primo, entonces:** $$\\phi (n) = n-1$$\n",
        " - **Congruencias**<br/>\n",
        " Sea n un entero positivo, los enteros a y b son congruentes mod n si tienen el mismo residuo una vez se divida por n.\n",
        " $$a \\equiv b (\\ mod n) $$<br/>\n",
        " - **Maximo comun divisor (M.C.D)**<br/>\n",
        " - **El polinomio de J Brox** <br/>\n",
        " No existe un polinomio $P(n)$ que para todos los valores de $n$ el resultado sea un número primo. Sin embargo, existen polinomios que para un rango de valores de $n$ generan estos números. Euler, Legendre, entre otros, son algunos polinomios famosos que generan números primos. Es posible demostrar que solo una función constante es admitida como polinomio capaz de entregar u valor primo para $n$ valores, se puede encontrar esta demostración en la referencia #4. <br/>**El polinomio de J Brox** es el polinomio con rango de valores $n$ [0-57], 57 valores diferentes de números primos. $$P(n) = 6n^2 -342n +4903$$ \n",
        " - **Algoritmo extendido de Euclides ( Identidad de Bezout)**<br/>\n",
        " si a y b son enteros, ambos diferentes de 0, y sea d el M.C.D entre a y b. Entonces existen enteros v y w tales que:\n",
        " $$d=a v  + bw$$\n",
        "\n",
        "**Cifrado y Descifrado**\n",
        "En estas 2 fases del algoritmo, transformamos el valor numerico cifrandolo con la llave publica y desciframos el valor con la llave privada. Para esto es necesario tener encuenta las siguientes formulas:\n",
        "$$ C \\equiv M^e (\\ mod \\ n\\ )$$\n",
        "$$ M \\equiv C^d (\\ mod \\ n\\ )$$\n",
        "Donde $C$ es el valor cifrado, $M$ es valor sin cifrar , $e$ es clave publica, $d$ es la clave privada y $n$ es el producto de dos numeros primos."
      ]
    },
    {
      "cell_type": "markdown",
      "metadata": {
        "id": "BDVKxjp3MKJK"
      },
      "source": [
        "3. Algoritmos se deberán describir de forma clara el algoritmo principal utilizado.\n"
      ]
    },
    {
      "cell_type": "markdown",
      "metadata": {
        "id": "pfEYqK33MSos"
      },
      "source": [
        "El algoritmo RSA funciona de la siguiente manera:<br>\n",
        "**Fase de generacion de claves publicas y privadas**\n",
        ">1. Generamos aleatoriamente dos numeros primos grandes utilizando el polinomio de J Brox y valores de n entre 10 y 57 (mayores a 500 bits), a los que llamaremos $p$ y $q$. \n",
        "2. Calculamos el valor de $n$ multiplicando $p$ y $q$:\n",
        "$$n=p*q$$\n",
        "3.Usamos la funcion $\\phi$ de Euler calculando:\n",
        " $$\\phi (n) = (p-1)(q-1)$$\n",
        " ya que $n=p*q$ entonces $\\phi (n)$ es igual a $\\phi (pq)$.\n",
        "4. Calcular un numero natural $e$ de manera que $$M.C.D(e,\\phi (n))=1$$\n",
        "es decir que e debe ser coprimo de $\\phi (n)$. Con esto obtendriamos $e$ que es la **clave publica**.\n",
        "5. Calcular mediante el algoritmo extendido de Euclides (identidad de Bezout) un numero $d$ entero, tal que:\n",
        "$$ed\\ (mod \\ \\phi (n)\\ ) =1$$ \n",
        "Con el valor que encontremos de $d$ obtendriamos la clave privada."
      ]
    },
    {
      "cell_type": "markdown",
      "metadata": {
        "id": "nge6TFr35_Jc"
      },
      "source": [
        "**Fase de cifrado y descifrado**\n",
        "> 1. Ciframos el valor mediante la funcion de cifrado:\n",
        "$$ C \\equiv M^e (\\ mod \\ n\\ )$$\n",
        "2. Desciframos el valor mediante la funcion de descifrado:\n",
        "$$ M \\equiv C^d (\\ mod \\ n\\ )$$ <br/> \n",
        "> Sea $ C \\equiv M^e (\\ mod \\ n\\ )$ la función de cifrado que asigna a cada letra un entero para formar un mensaje como bloque de enteros. La función de descifrado busca un inverso $d$ para la llave pública $e$ mod $(p-1)(q-1)$.<br/>\n",
        "> Sea $ C^d = (M^e)^d$  = M^(1+k(p-1)(q-1))<br/> \n",
        "> Luego $M^p M^-1 \\equiv ( 1 \\mod \\ p)$ y $M^q M^-1 \\equiv ( 1\\mod \\ q)$ <br/>\n",
        "> Reescribimos  M^(1+k(p-1)(q-1)) <br/> \n",
        "> $M((M^p M^-1)^k)^(q-1) \\equiv M \\mod p$ <br/>\n",
        ">  $M((M^q M^-1)^k)^(p-1) \\equiv M \\mod q$ <br/>\n",
        "> $C ^ d \\equiv M \\mod p$ <br/>\n",
        "> $C ^ d \\equiv M \\mod q$ <br/>\n",
        "> Por tanto $C ^ d \\equiv M \\mod pq \\equiv M \\mod n$\n"
      ]
    },
    {
      "cell_type": "markdown",
      "metadata": {
        "id": "Ii1BstUVMMnN"
      },
      "source": [
        "4. Configuración experimental. Se deberán realizar experimentos para estudiar aspectos computacionales de la solución propuesta, esta sección describirá dichos aspectos."
      ]
    },
    {
      "cell_type": "markdown",
      "metadata": {
        "id": "EahZO-ybxJnH"
      },
      "source": [
        "**Experimento #1**<br>\n",
        "**Fase de generacion de claves publicas y privadas**<br>"
      ]
    },
    {
      "cell_type": "markdown",
      "metadata": {
        "id": "rNGWmD5LMTdX"
      },
      "source": [
        "\n",
        "> Definimos $p$ y $q$:<br>\n",
        "$p=839$ , $q=947$<br>\n",
        "\n",
        "> Definimos $n$ como el producto entre $p$ y $q$:<br>\n",
        "$n=839 * 947 = 794533$<br>\n",
        "\n",
        "> Calculamos $\\phi (n)$:<br>\n",
        "$\\phi (n)=(p-1)*(q-1)=838*946=792748$<br>\n",
        "\n",
        "> Debemos elegir nuestra llave publica ($e$) de tal modo que  1 < e < $\\phi (n)$  y para asegurarnos de que exista el inverso multiplicativo y por lo tanto la existencia de la clave privada inversa de esa clave publica, debemos asegurarnos que :<br>\n",
        "$mcd(e,\\phi(n)) =1 $<br>\n",
        "En este caso, vamos a escoger:\n",
        "$e=41$\n",
        "\n",
        "> Calculamos nuestra llave privada usando el algoritmo extendido de Euclides.<br>\n",
        "$ed \\equiv 1 \\ mod (\\phi(n)) $<br>\n",
        "Este tambien puede calcularse como:<br>\n",
        "$d= \\frac{(Y \\ . \\ \\phi(n)) +1}e{}$ para Y = 1,2,3... hasta encontrar un d entero.<br>\n",
        "Sin embargo nos apoyamos de Python para realizar este calculo:"
      ]
    },
    {
      "cell_type": "code",
      "metadata": {
        "colab": {
          "base_uri": "https://localhost:8080/"
        },
        "id": "-qPRtw-XEqPg",
        "outputId": "34bc935a-819b-478d-f680-75f960dbff7b"
      },
      "source": [
        "def obtenerClavePrivada(e,phi_n):\n",
        "  y=1\n",
        "  while ((( y * phi_n )+1) % e != 0):\n",
        "    y=y+1\n",
        "  return (( y * phi_n )+1)/e \n",
        "print(obtenerClavePrivada(41, 792748))"
      ],
      "execution_count": null,
      "outputs": [
        {
          "output_type": "stream",
          "text": [
            "425377.0\n"
          ],
          "name": "stdout"
        }
      ]
    },
    {
      "cell_type": "markdown",
      "metadata": {
        "id": "XD9DAKySId2u"
      },
      "source": [
        "> obteniendo el valor de nuestra clave privada $d=425377$ \n",
        "\n",
        ">Entonces la llave publica es (41,794533) y la privada es (425377,794533)"
      ]
    },
    {
      "cell_type": "markdown",
      "metadata": {
        "id": "bqcv6JdeKode"
      },
      "source": [
        "**Fase de cifrado y descifrado**\n",
        "Para esta fase, podemos cifrar una afirmacion , oracion o mensaje si lo transformamos a su equivalente numerico (ASCII).\n",
        ">convertir String a Ascii:"
      ]
    },
    {
      "cell_type": "code",
      "metadata": {
        "colab": {
          "base_uri": "https://localhost:8080/"
        },
        "id": "FgmhadnPL-G0",
        "outputId": "612f1787-c2e2-40c3-e80b-f36e74c2fda7"
      },
      "source": [
        "def convertirStringASCII(s):\n",
        "  return [ord(c) for c in s]\n",
        "print(convertirStringASCII(\"Matemáticas Discretas\"))"
      ],
      "execution_count": null,
      "outputs": [
        {
          "output_type": "stream",
          "text": [
            "[77, 97, 116, 101, 109, 225, 116, 105, 99, 97, 115, 32, 68, 105, 115, 99, 114, 101, 116, 97, 115]\n"
          ],
          "name": "stdout"
        }
      ]
    },
    {
      "cell_type": "markdown",
      "metadata": {
        "id": "-vEXnrEhMFky"
      },
      "source": [
        "> Ciframos el mensaje con la llave publica aplicando la funcion:<br>\n",
        "$ C \\equiv M^e (\\ mod \\ n\\ )$\n"
      ]
    },
    {
      "cell_type": "code",
      "metadata": {
        "colab": {
          "base_uri": "https://localhost:8080/"
        },
        "id": "u6p2-n9DMfmO",
        "outputId": "6373783f-90b1-47ec-8c7f-cfdb6a30a0df"
      },
      "source": [
        "mensaje = [77, 97, 116, 101, 109, 225, 116, 105, 99, 97, 115, 32, 68, 105, 115, 99, 114, 101, 116, 97, 115]\n",
        "cifrado = []\n",
        "\n",
        "def cifrar(e,n,m):\n",
        "  return pow(m,e,n)\n",
        "\n",
        "for letra in mensaje:\n",
        "  cifrado.append(cifrar(41,794533,letra))\n",
        "\n",
        "print(\"El mensaje cifrado es: \")\n",
        "print(cifrado)"
      ],
      "execution_count": null,
      "outputs": [
        {
          "output_type": "stream",
          "text": [
            "El mensaje cifrado es: \n",
            "[381623, 444759, 351, 312228, 62654, 94995, 351, 652890, 106932, 444759, 759207, 313654, 207559, 652890, 759207, 106932, 454988, 312228, 351, 444759, 759207]\n"
          ],
          "name": "stdout"
        }
      ]
    },
    {
      "cell_type": "markdown",
      "metadata": {
        "id": "YoeqNkBuORgO"
      },
      "source": [
        "> Por ultimo, desciframos el mensaje con la llave privada y aplicando la funcion: <br>\n",
        "$M \\equiv C^d (\\ mod \\ n\\ )$"
      ]
    },
    {
      "cell_type": "code",
      "metadata": {
        "colab": {
          "base_uri": "https://localhost:8080/"
        },
        "id": "27N_wTkeO4AU",
        "outputId": "7607e488-a352-44b9-a4c3-b9261559b34b"
      },
      "source": [
        "cifrado = [381623, 444759, 351, 312228, 62654, 94995, 351, 652890, 106932, 444759, 759207, 313654, 207559, 652890, 759207, 106932, 454988, 312228, 351, 444759, 759207]\n",
        "\n",
        "descifrado = []\n",
        "\n",
        "def descifrar(d,n,c):\n",
        "  return pow(c,d,n)\n",
        "\n",
        "for letra in cifrado:\n",
        "  descifrado.append(descifrar(425377,794533,letra))\n",
        "\n",
        "print(\"El mensaje cifrado es: \")\n",
        "print(descifrado)"
      ],
      "execution_count": null,
      "outputs": [
        {
          "output_type": "stream",
          "text": [
            "El mensaje cifrado es: \n",
            "[77, 97, 116, 101, 109, 225, 116, 105, 99, 97, 115, 32, 68, 105, 115, 99, 114, 101, 116, 97, 115]\n"
          ],
          "name": "stdout"
        }
      ]
    },
    {
      "cell_type": "markdown",
      "metadata": {
        "id": "VeUb7TtNS7uB"
      },
      "source": [
        "> Convertimos el arreglo en string y obtenemos\n"
      ]
    },
    {
      "cell_type": "code",
      "metadata": {
        "colab": {
          "base_uri": "https://localhost:8080/"
        },
        "id": "N_I22UddS68X",
        "outputId": "9f7f219c-7a55-4d51-a95a-6cd9ba08a562"
      },
      "source": [
        "descifrado= [77, 97, 116, 101, 109, 225, 116, 105, 99, 97, 115, 32, 68, 105, 115, 99, 114, 101, 116, 97, 115]\n",
        "def convertirASCIIString(s):\n",
        "  return ''.join(chr(c) for c in s)\n",
        "print(convertirASCIIString(descifrado))"
      ],
      "execution_count": null,
      "outputs": [
        {
          "output_type": "stream",
          "text": [
            "Matemáticas Discretas\n"
          ],
          "name": "stdout"
        }
      ]
    },
    {
      "cell_type": "markdown",
      "metadata": {
        "id": "_E7kGYruxasX"
      },
      "source": [
        "**Experimento #2**<br>\n",
        "**Fase de generacion de claves publicas y privadas**<br>"
      ]
    },
    {
      "cell_type": "markdown",
      "metadata": {
        "id": "36jZS9nXxgCn"
      },
      "source": [
        "> Generamos utilizando el polinomio de J Brox dos números primos:"
      ]
    },
    {
      "cell_type": "code",
      "metadata": {
        "colab": {
          "base_uri": "https://localhost:8080/"
        },
        "id": "ARO-IuHUxoxX",
        "outputId": "62800287-4634-4835-f0dc-ce5e3d31679c"
      },
      "source": [
        "import random\n",
        "def jbrox(): \n",
        "  n = random.randint(45,57)\n",
        "  return 6*(n)**2 - (342*n) + 4903\n",
        "print(\"p:\",jbrox())\n",
        "print(\"q:\",jbrox())"
      ],
      "execution_count": null,
      "outputs": [
        {
          "output_type": "stream",
          "text": [
            "p: 3343\n",
            "q: 3931\n"
          ],
          "name": "stdout"
        }
      ]
    },
    {
      "cell_type": "markdown",
      "metadata": {
        "id": "75FqICJsp0nY"
      },
      "source": [
        "\n",
        "> Definimos $p$ y $q$:<br>\n",
        "$p=1867$ , $q=2311$<br>\n",
        "\n",
        "> Definimos $n$ como el producto entre $p$ y $q$:<br>\n",
        "$n=1867 * 2311 = 4314637$<br>\n",
        "\n",
        "> Calculamos $\\phi (n)$:<br>\n",
        "$\\phi (n)=(p-1)*(q-1)=1866*2310= 4310460$<br>\n",
        "\n",
        "> Debemos elegir nuestra llave publica ($e$) de tal modo que  1 < e < $\\phi (n)$  y para asegurarnos de que exista el inverso multiplicativo y por lo tanto la existencia de la clave privada inversa de esa clave publica, debemos asegurarnos que :<br>\n",
        "$mcd(e,\\phi(n)) =1 $<br>\n",
        "En este caso, vamos a escoger:\n",
        "$e=65537$ Cuarto número de Fermat\n",
        "\n",
        "> Calculamos nuestra llave privada usando el algoritmo extendido de Euclides.<br>\n",
        "$ed \\equiv 1 \\ mod (\\phi(n)) $<br>\n",
        "Este tambien puede calcularse como:<br>\n",
        "$d= \\frac{(Y \\ . \\ \\phi(n)) +1}e{}$ para Y = 1,2,3... hasta encontrar un d entero.<br>\n",
        "Sin embargo nos apoyamos de Python para realizar este calculo:"
      ]
    },
    {
      "cell_type": "code",
      "metadata": {
        "colab": {
          "base_uri": "https://localhost:8080/"
        },
        "id": "Qf5td9IZz_xx",
        "outputId": "9480a66d-1744-4b38-b6d0-f14bbbda4258"
      },
      "source": [
        "def obtenerClavePrivada(e,phi_n):\n",
        "  y=1\n",
        "  while ((( y * phi_n )+1) % e != 0):\n",
        "    y=y+1\n",
        "  return (( y * phi_n )+1)/e \n",
        "print(obtenerClavePrivada(65537, 4310460))"
      ],
      "execution_count": null,
      "outputs": [
        {
          "output_type": "stream",
          "text": [
            "873773.0\n"
          ],
          "name": "stdout"
        }
      ]
    },
    {
      "cell_type": "markdown",
      "metadata": {
        "id": "9Qnr6igH0Qtn"
      },
      "source": [
        "> obteniendo el valor de nuestra clave privada $d=873773$ \n",
        "\n",
        ">Entonces la llave publica es (65537,4314637) y la privada es (873773,4314637)"
      ]
    },
    {
      "cell_type": "markdown",
      "metadata": {
        "id": "7zFbVGSt0kLu"
      },
      "source": [
        "**Fase de cifrado y descifrado**\n",
        "Para esta fase, podemos cifrar una afirmacion , oracion o mensaje si lo transformamos a su equivalente numerico (ASCII).\n",
        ">convertir String a Ascii:"
      ]
    },
    {
      "cell_type": "code",
      "metadata": {
        "colab": {
          "base_uri": "https://localhost:8080/"
        },
        "id": "rqQM3PAk0q73",
        "outputId": "d954dc0d-6971-46d4-8e88-e0aba2cfd015"
      },
      "source": [
        "def convertirStringASCII(s):\n",
        "  return [ord(c) for c in s]\n",
        "print(convertirStringASCII(\"Polinomio de J Brox\"))"
      ],
      "execution_count": null,
      "outputs": [
        {
          "output_type": "stream",
          "text": [
            "[80, 111, 108, 105, 110, 111, 109, 105, 111, 32, 100, 101, 32, 74, 32, 66, 114, 111, 120]\n"
          ],
          "name": "stdout"
        }
      ]
    },
    {
      "cell_type": "markdown",
      "metadata": {
        "id": "QDc_l_Dh0x5X"
      },
      "source": [
        "> Ciframos el mensaje con la llave publica aplicando la funcion:<br>\n",
        "$ C \\equiv M^e (\\ mod \\ n\\ )$\n"
      ]
    },
    {
      "cell_type": "code",
      "metadata": {
        "colab": {
          "base_uri": "https://localhost:8080/"
        },
        "id": "oPglhRYh02La",
        "outputId": "3e95a15c-0570-4a4e-a57f-ce43d2536964"
      },
      "source": [
        "mensaje = [80, 111, 108, 105, 110, 111, 109, 105, 111, 32, 100, 101, 32, 74, 32, 66, 114, 111, 120]\n",
        "cifrado = []\n",
        "\n",
        "def cifrar(e,n,m):\n",
        "  return pow(m,e,n)\n",
        "\n",
        "for letra in mensaje:\n",
        "  cifrado.append(cifrar(65537,4314637,letra))\n",
        "\n",
        "print(\"El mensaje cifrado es: \")\n",
        "print(cifrado)"
      ],
      "execution_count": null,
      "outputs": [
        {
          "output_type": "stream",
          "text": [
            "El mensaje cifrado es: \n",
            "[1915500, 1413363, 286617, 1709927, 1802348, 1413363, 471942, 1709927, 1413363, 96819, 497583, 3556802, 96819, 2379598, 96819, 3845828, 4173536, 1413363, 3042246]\n"
          ],
          "name": "stdout"
        }
      ]
    },
    {
      "cell_type": "markdown",
      "metadata": {
        "id": "XtKvPD521KY3"
      },
      "source": [
        "> Por ultimo, desciframos el mensaje con la llave privada y aplicando la funcion: <br>\n",
        "$M \\equiv C^d (\\ mod \\ n\\ )$"
      ]
    },
    {
      "cell_type": "code",
      "metadata": {
        "colab": {
          "base_uri": "https://localhost:8080/"
        },
        "id": "jZYOLMOz1SYC",
        "outputId": "63682f6c-e3a9-40a8-fc52-c0889e65e909"
      },
      "source": [
        "cifrado = [1915500, 1413363, 286617, 1709927, 1802348, 1413363, 471942, 1709927, 1413363, 96819, 497583, 3556802, 96819, 2379598, 96819, 3845828, 4173536, 1413363, 3042246]\n",
        "descifrado = []\n",
        "\n",
        "def descifrar(d,n,c):\n",
        "  return pow(c,d,n)\n",
        "\n",
        "for letra in cifrado:\n",
        "  descifrado.append(descifrar(873773,4314637,letra))\n",
        "\n",
        "print(\"El mensaje descifrado ASCII es: \")\n",
        "print(descifrado)"
      ],
      "execution_count": null,
      "outputs": [
        {
          "output_type": "stream",
          "text": [
            "El mensaje descifrado ASCII es: \n",
            "[80, 111, 108, 105, 110, 111, 109, 105, 111, 32, 100, 101, 32, 74, 32, 66, 114, 111, 120]\n"
          ],
          "name": "stdout"
        }
      ]
    },
    {
      "cell_type": "markdown",
      "metadata": {
        "id": "YtPszdV71g3J"
      },
      "source": [
        "> Convertimos el arreglo en string y obtenemos\n"
      ]
    },
    {
      "cell_type": "code",
      "metadata": {
        "colab": {
          "base_uri": "https://localhost:8080/"
        },
        "id": "UTfmDcXH1k-N",
        "outputId": "56f90573-56da-4bb4-feb0-02045be2503d"
      },
      "source": [
        "descifrado= [80, 111, 108, 105, 110, 111, 109, 105, 111, 32, 100, 101, 32, 74, 32, 66, 114, 111, 120]\n",
        "def convertirASCIIString(s):\n",
        "  return ''.join(chr(c) for c in s)\n",
        "print(convertirASCIIString(descifrado))"
      ],
      "execution_count": null,
      "outputs": [
        {
          "output_type": "stream",
          "text": [
            "Polinomio de J Brox\n"
          ],
          "name": "stdout"
        }
      ]
    },
    {
      "cell_type": "markdown",
      "metadata": {
        "id": "HllK4UOFot4v"
      },
      "source": [
        "#### **Resultados**\n",
        "- Deberá reportar los resultados de los experimentos realizados. Para esto se deberán incluir bloques de código que permitan reproducir TODOS los resultados reportados."
      ]
    },
    {
      "cell_type": "markdown",
      "metadata": {
        "id": "XbBCVIkAo0FY"
      },
      "source": [
        "> En la anterior sección realizamos un análisis paso por paso del algoritmo RSA presentando bloques de código sin relación que ejecutaban funciones necesarias o partes del algoritmo. En esta sección presentaremos los resultados con una situación cotidiana (mensajero, receptor) ejemplificada en un programa. <br/> \n",
        "> Suponga que Alejandra quiere enviar un mensaje confidencial a Ramiro, para esto ella busca la clave pública de Ramiro y encripta su mensaje con esta clave. Ramiro conoce RSA y sabe que Alejandra debe tener acceso a su clave pública y su valor $n$. <br/> \n",
        "Alicia encuentra los valores $n$ = 4314637 y $e$ = 65537 y procede a encriptar su mensaje. <br/> \n",
        "Puede reemplazar el mensaje que envia Alicia y comprobar en el segundo bloque de codígo  el resultado solo reemplazado el mensajeRecibidoPorRamiro por el arreglo salida del primer bloque de código."
      ]
    },
    {
      "cell_type": "code",
      "metadata": {
        "colab": {
          "base_uri": "https://localhost:8080/"
        },
        "id": "ac-15Nl7Z4RT",
        "outputId": "dad4ba8e-b0e1-42b9-a3c5-e0dd02e3c384"
      },
      "source": [
        "mensajeAlicia = \"Los computadores cuanticos se acercan\" \n",
        "def convertirStringASCII(s):\n",
        "  return [ord(c) for c in s]; \n",
        "mensajeAliciaASCII = convertirStringASCII(mensajeAlicia)\n",
        "cifrado = []\n",
        "\n",
        "def cifrar(e,n,m):\n",
        "  return pow(m,e,n)\n",
        "\n",
        "for letra in mensajeAliciaASCII:\n",
        "  cifrado.append(cifrar(65537,4314637,letra))\n",
        "print(cifrado)"
      ],
      "execution_count": null,
      "outputs": [
        {
          "output_type": "stream",
          "text": [
            "[1694244, 1413363, 2837536, 96819, 1131796, 1413363, 471942, 1286669, 2357225, 157864, 1525963, 497583, 1413363, 4173536, 3556802, 2837536, 96819, 1131796, 2357225, 1525963, 1802348, 157864, 1709927, 1131796, 1413363, 2837536, 96819, 2837536, 3556802, 96819, 1525963, 1131796, 3556802, 4173536, 1131796, 1525963, 1802348]\n"
          ],
          "name": "stdout"
        }
      ]
    },
    {
      "cell_type": "markdown",
      "metadata": {
        "id": "HERwB49ter-k"
      },
      "source": [
        "> El mensaje de Alicia viaja convertido en ese arreglo de enteros y es recibido por Ramiro que utilizará su clave privada $d$ para descifrarlo. "
      ]
    },
    {
      "cell_type": "code",
      "metadata": {
        "colab": {
          "base_uri": "https://localhost:8080/"
        },
        "id": "YGMtGQ1cfYUk",
        "outputId": "7e660d90-6080-498b-8c5c-5447730970fc"
      },
      "source": [
        "mensajeRecibidoPorRamiro = [1694244, 1413363, 2837536, 96819, 1131796, 1413363, 471942, 1286669, 2357225, 157864, 1525963, 497583, 1413363, 4173536, 3556802, 2837536, 96819, 1131796, 2357225, 1525963, 1802348, 157864, 1709927, 1131796, 1413363, 2837536, 96819, 2837536, 3556802, 96819, 1525963, 1131796, 3556802, 4173536, 1131796, 1525963, 1802348]\n",
        "descifrado = []\n",
        "\n",
        "def descifrar(d,n,c):\n",
        "  return pow(c,d,n)\n",
        "\n",
        "for letra in mensajeRecibidoPorRamiro:\n",
        "  descifrado.append(descifrar(873773,4314637,letra))\n",
        "def convertirASCIIString(s):\n",
        "  return ''.join(chr(c) for c in s)\n",
        "print(convertirASCIIString(descifrado))"
      ],
      "execution_count": null,
      "outputs": [
        {
          "output_type": "stream",
          "text": [
            "Los computadores cuanticos se acercan\n"
          ],
          "name": "stdout"
        }
      ]
    },
    {
      "cell_type": "markdown",
      "metadata": {
        "id": "nL5NxotQqIIF"
      },
      "source": [
        "> De esta manera comprobamos los resultados obtenidos en la sección anterior con un ejemplo más práctico y entendible en donde Ramiro recibió su mensaje teniendo en cuenta la privacidad total de su clave $d$"
      ]
    },
    {
      "cell_type": "markdown",
      "metadata": {
        "id": "sYPRYgP0owGK"
      },
      "source": [
        " **Conclusiones**\n",
        "\n",
        "\n",
        "\n",
        "- Se deberán redactar conclusiones relacionados con la solución propuesta.\n"
      ]
    },
    {
      "cell_type": "markdown",
      "metadata": {
        "id": "49QCxwzGovya"
      },
      "source": [
        "\n",
        "\n",
        "*   RSA es la manera más común, eficaz y segura para mantener la privacidad de la información, su éxito de fundamenta en la teoría de números y la gran incógnita que se tiene con la factorización de números primos grandes.\n",
        "*   En RSA se deben mantener en secreto los números primos $p$,$q$ y la clave para descifrar $d$. Se deben hacer públicos los valores de $n$ y la clave pública para encriptar $e$. \n",
        "* La integridad de este algoritmo depende de la eficiencia de los ordenadores para factorizar $n$, con el aumento de rendimiento en los ordenadores se debe aumentar el valor de $n$ y la manera de generar $p$ y $q$ más grandes.\n",
        "* El problema RSA como es conocido en criptografía fundamenta su dificultad en encontrar una clave privada dado solo la clave pública y es la base de todo un sistema de seguridad aplicado en sistemas de Internet of Things, banca, entre otros.  \n",
        "\n"
      ]
    },
    {
      "cell_type": "markdown",
      "metadata": {
        "id": "0TBOPtv4o1BZ"
      },
      "source": [
        "#### **Referencias**\n",
        "- Se deberán incluir referencias que soporten el trabajo. Las referencias deberán ser de calidad: Artículos de revista, Libros, Proceedings, Capítulos de libro."
      ]
    },
    {
      "cell_type": "markdown",
      "metadata": {
        "id": "kIW9J7ldo4l7"
      },
      "source": [
        "- Diaz, E.H.D.R(2005). EL CRIPTOSISTEMA RSA. Editorial Ra-Ma.\n",
        "- Muñoz, A.M.,& Aguirre, J.R.(2019). Cifrado de las comunicaciones digitales(Vol.1).OxWORD.\n",
        "- Preneel. B.,Paar,C.,& Pelzl, J. (2014). Understanding Cryptography: A Textbook for Students and Practitioners (2010 ed.) Springer.\n",
        "-Funciones que generan números primos. (2019, 20 agosto). Lo fascinante de la teoría de números. https://sselbergg.wordpress.com/2013/11/04/funciones-que-generan-numeros-primos/"
      ]
    }
  ]
}